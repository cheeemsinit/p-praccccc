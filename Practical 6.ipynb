{
 "cells": [
  {
   "cell_type": "markdown",
   "id": "e1c36c54",
   "metadata": {},
   "source": [
    "## Q1 Create a Python program to demonstrate operations/methods of Numpy library on any set of data or array."
   ]
  },
  {
   "cell_type": "code",
   "execution_count": 1,
   "id": "cdf3da11",
   "metadata": {},
   "outputs": [
    {
     "name": "stdout",
     "output_type": "stream",
     "text": [
      "[1 2 3]\n"
     ]
    }
   ],
   "source": [
    "#One dimension\n",
    "import numpy as np\n",
    "a = np.array([1,2,3])\n",
    "print (a)"
   ]
  },
  {
   "cell_type": "code",
   "execution_count": 2,
   "id": "e9d0b268",
   "metadata": {},
   "outputs": [
    {
     "name": "stdout",
     "output_type": "stream",
     "text": [
      "[[1 2]\n",
      " [3 4]]\n"
     ]
    }
   ],
   "source": [
    "#More than one dimensions\n",
    "import numpy as np\n",
    "a = np.array([[1,2],[3,4]])\n",
    "print(a)"
   ]
  },
  {
   "cell_type": "code",
   "execution_count": 3,
   "id": "a22f2144",
   "metadata": {},
   "outputs": [
    {
     "name": "stdout",
     "output_type": "stream",
     "text": [
      "[1.+0.j 2.+0.j 3.+0.j]\n"
     ]
    }
   ],
   "source": [
    "#Using dtype parameters \n",
    "import numpy as np\n",
    "a = np.array([1,2,3],dtype = complex)\n",
    "print (a)"
   ]
  },
  {
   "cell_type": "code",
   "execution_count": 4,
   "id": "de772997",
   "metadata": {},
   "outputs": [
    {
     "name": "stdout",
     "output_type": "stream",
     "text": [
      "(2, 2)\n",
      "[[1 2]\n",
      " [3 4]]\n"
     ]
    }
   ],
   "source": [
    "#Checking the shape of an array\n",
    "import numpy as np\n",
    "a = np.array([[1,2],[3,4]])\n",
    "print (a.shape)\n",
    "print(a)"
   ]
  },
  {
   "cell_type": "markdown",
   "id": "b4d5653d",
   "metadata": {},
   "source": [
    "## Reshaping an array"
   ]
  },
  {
   "cell_type": "code",
   "execution_count": 5,
   "id": "baa31fff",
   "metadata": {},
   "outputs": [
    {
     "name": "stdout",
     "output_type": "stream",
     "text": [
      "[[1 2 3]\n",
      " [4 5 6]]\n",
      "<built-in method reshape of numpy.ndarray object at 0x0000023748F6A990>\n"
     ]
    }
   ],
   "source": [
    "#Method 1\n",
    "import numpy as np\n",
    "a = np.array([[1,2],[3,4],[5,6]])\n",
    "a.shape=(2,3)\n",
    "print(a)\n",
    "print(a.reshape)"
   ]
  },
  {
   "cell_type": "code",
   "execution_count": 6,
   "id": "214a0392",
   "metadata": {},
   "outputs": [
    {
     "name": "stdout",
     "output_type": "stream",
     "text": [
      "[[1 2 3]\n",
      " [4 5 6]]\n"
     ]
    }
   ],
   "source": [
    "#Method 2\n",
    "a = np.array([[1,2],[3,4],[5,6]])\n",
    "b=a.reshape(2,3)\n",
    "print(b)"
   ]
  },
  {
   "cell_type": "code",
   "execution_count": 7,
   "id": "8e5f2514",
   "metadata": {},
   "outputs": [
    {
     "name": "stdout",
     "output_type": "stream",
     "text": [
      "[1. 2. 3.]\n"
     ]
    }
   ],
   "source": [
    "#Change data type of array from set to tuple\n",
    "x = np.array([1,2,3])\n",
    "a=np.asarray(x, dtype = float)\n",
    "print(a)"
   ]
  },
  {
   "cell_type": "code",
   "execution_count": 8,
   "id": "7bce6269",
   "metadata": {},
   "outputs": [
    {
     "name": "stdout",
     "output_type": "stream",
     "text": [
      "[0 1 2 3 4]\n"
     ]
    }
   ],
   "source": [
    "#Method 1\n",
    "#Prinitng an array from numerical ranges\n",
    "x = np.arange(5)\n",
    "print(x)"
   ]
  },
  {
   "cell_type": "code",
   "execution_count": 9,
   "id": "b35ede6c",
   "metadata": {},
   "outputs": [
    {
     "name": "stdout",
     "output_type": "stream",
     "text": [
      "[0. 1. 2. 3. 4.]\n"
     ]
    }
   ],
   "source": [
    "#method 2\n",
    "#dtype is set\n",
    "x = np.arange(5, dtype = float)\n",
    "print(x)"
   ]
  },
  {
   "cell_type": "code",
   "execution_count": 10,
   "id": "578d7300",
   "metadata": {},
   "outputs": [
    {
     "name": "stdout",
     "output_type": "stream",
     "text": [
      "[10 12 14 16 18]\n"
     ]
    }
   ],
   "source": [
    "#Method 3\n",
    "#Start and stop parameters are given\n",
    "x = np.arange(10,20,2)\n",
    "print(x)"
   ]
  },
  {
   "cell_type": "markdown",
   "id": "36d71796",
   "metadata": {},
   "source": [
    "## Indexing and slicing"
   ]
  },
  {
   "cell_type": "code",
   "execution_count": 11,
   "id": "a7b7e929",
   "metadata": {},
   "outputs": [
    {
     "name": "stdout",
     "output_type": "stream",
     "text": [
      "[1 2 3 4 5 6 7 8 9]\n",
      "[3 5 7]\n"
     ]
    }
   ],
   "source": [
    "import numpy as np\n",
    "a = np.arange(1,10)\n",
    "print(a)\n",
    "s = slice(2,8,2) # Slicing method 1\n",
    "print(a[s])"
   ]
  },
  {
   "cell_type": "code",
   "execution_count": 12,
   "id": "ba9fd36d",
   "metadata": {},
   "outputs": [
    {
     "name": "stdout",
     "output_type": "stream",
     "text": [
      "[0 1 2 3 4 5 6 7 8 9]\n",
      "[2 4 6]\n"
     ]
    }
   ],
   "source": [
    "a = np.arange(10)\n",
    "print(a)\n",
    "b = a[2:8:2]  #Slicing method 2\n",
    "print(b)"
   ]
  },
  {
   "cell_type": "code",
   "execution_count": 13,
   "id": "206f5372",
   "metadata": {},
   "outputs": [
    {
     "name": "stdout",
     "output_type": "stream",
     "text": [
      "[2 3 4 5 6 7 8 9]\n"
     ]
    }
   ],
   "source": [
    "#Slicing elements from starting index\n",
    "a = np.arange(10)\n",
    "print(a[2:])"
   ]
  },
  {
   "cell_type": "code",
   "execution_count": 14,
   "id": "525b4e58",
   "metadata": {},
   "outputs": [
    {
     "name": "stdout",
     "output_type": "stream",
     "text": [
      "[2 3 4 5]\n"
     ]
    }
   ],
   "source": [
    "#Slicing items between elements\n",
    "a = np.arange(10)\n",
    "print(a[2:6])"
   ]
  },
  {
   "cell_type": "code",
   "execution_count": 15,
   "id": "7db4780e",
   "metadata": {},
   "outputs": [
    {
     "name": "stdout",
     "output_type": "stream",
     "text": [
      "[[1 2 3]\n",
      " [3 4 5]\n",
      " [4 5 6]]\n"
     ]
    }
   ],
   "source": [
    "a = np.array([[1,2,3],[3,4,5],[4,5,6]])\n",
    "print(a)"
   ]
  },
  {
   "cell_type": "code",
   "execution_count": 16,
   "id": "736c7e4e",
   "metadata": {},
   "outputs": [
    {
     "name": "stdout",
     "output_type": "stream",
     "text": [
      "Now we will slice the array from the index at a[1:]\n",
      "[[3 4 5]\n",
      " [4 5 6]]\n"
     ]
    }
   ],
   "source": [
    "#Slice items staring from index\n",
    "print('Now we will slice the array from the index at a[1:]')\n",
    "print(a[1:])"
   ]
  },
  {
   "cell_type": "code",
   "execution_count": 17,
   "id": "56f78c68",
   "metadata": {},
   "outputs": [
    {
     "name": "stdout",
     "output_type": "stream",
     "text": [
      "[[1 2 3]]\n"
     ]
    }
   ],
   "source": [
    "#Print only first row\n",
    "print(a[:1])"
   ]
  },
  {
   "cell_type": "code",
   "execution_count": 18,
   "id": "7ff7ea7f",
   "metadata": {},
   "outputs": [
    {
     "name": "stdout",
     "output_type": "stream",
     "text": [
      "[[3 4 5]]\n"
     ]
    }
   ],
   "source": [
    "#Print only second row\n",
    "print(a[1:2])"
   ]
  },
  {
   "cell_type": "code",
   "execution_count": 19,
   "id": "677d49d3",
   "metadata": {},
   "outputs": [
    {
     "name": "stdout",
     "output_type": "stream",
     "text": [
      "[3 4 5]\n"
     ]
    }
   ],
   "source": [
    "#Items in the second column\n",
    "print(a[1,...])"
   ]
  },
  {
   "cell_type": "code",
   "execution_count": 20,
   "id": "71a7494d",
   "metadata": {},
   "outputs": [
    {
     "name": "stdout",
     "output_type": "stream",
     "text": [
      "[[2 3]\n",
      " [4 5]\n",
      " [5 6]]\n"
     ]
    }
   ],
   "source": [
    "#Items from second column and onwards\n",
    "print(a[...,1:])"
   ]
  },
  {
   "cell_type": "markdown",
   "id": "58819499",
   "metadata": {},
   "source": [
    "## Mathematical Functions"
   ]
  },
  {
   "cell_type": "code",
   "execution_count": 21,
   "id": "e5e6fb1c",
   "metadata": {},
   "outputs": [
    {
     "name": "stdout",
     "output_type": "stream",
     "text": [
      "\n",
      " The sin value of the angles[ 0.         -0.98803162 -0.30481062  0.89399666  0.58061118 -0.71487643\n",
      " -0.80115264]\n",
      "\n",
      " The cosine value of the angles[ 1.          0.15425145 -0.95241298 -0.44807362  0.81418097  0.69925081\n",
      " -0.59846007]\n",
      "\n",
      " The tangent value of the angles[ 0.         -6.4053312   0.32004039 -1.99520041  0.71312301 -1.02234624\n",
      "  1.33869021]\n"
     ]
    }
   ],
   "source": [
    "import numpy as np\n",
    "arr = np.array([0,30,60,90,120,150,180])\n",
    "print(\"\\n The sin value of the angles\", end = \"\")\n",
    "print(np.sin(arr))\n",
    "print(\"\\n The cosine value of the angles\", end = \"\")\n",
    "print(np.cos(arr))\n",
    "print(\"\\n The tangent value of the angles\", end = \"\")\n",
    "print(np.tan(arr))"
   ]
  },
  {
   "cell_type": "markdown",
   "id": "18e97f6e",
   "metadata": {},
   "source": [
    "## Functions to round off the numbers: 1) Round 2) Floor 3) Ceil"
   ]
  },
  {
   "cell_type": "code",
   "execution_count": 22,
   "id": "e8e65ee7",
   "metadata": {},
   "outputs": [
    {
     "name": "stdout",
     "output_type": "stream",
     "text": [
      "Printing the original array values:  [ 12.202   90.2312 123.02    23.202 ]\n",
      "Array values rounded off to 2 decimal position:  [ 12.2   90.23 123.02  23.2 ]\n"
     ]
    }
   ],
   "source": [
    "arr = np.array([12.202, 90.23120, 123.020, 23.202])\n",
    "print(\"Printing the original array values: \",end = \" \")\n",
    "print(arr)\n",
    "print(\"Array values rounded off to 2 decimal position: \",np.around(arr,2))"
   ]
  },
  {
   "cell_type": "markdown",
   "id": "a4eeb22c",
   "metadata": {},
   "source": [
    "## Floor and ceil functions"
   ]
  },
  {
   "cell_type": "code",
   "execution_count": 23,
   "id": "b88f9733",
   "metadata": {},
   "outputs": [
    {
     "name": "stdout",
     "output_type": "stream",
     "text": [
      "[ 12.  90. 123.  23.]\n"
     ]
    }
   ],
   "source": [
    "arr = np.array([12.202, 90.23120, 123.020, 23.202])\n",
    "print(np.floor(arr))"
   ]
  },
  {
   "cell_type": "code",
   "execution_count": 24,
   "id": "343239c8",
   "metadata": {},
   "outputs": [
    {
     "name": "stdout",
     "output_type": "stream",
     "text": [
      "[ 13.  91. 124.  24.]\n"
     ]
    }
   ],
   "source": [
    "arr = np.array([12.202, 90.23120, 123.020, 23.202])\n",
    "print(np.ceil(arr))"
   ]
  },
  {
   "cell_type": "markdown",
   "id": "2060bf8c",
   "metadata": {},
   "source": [
    "## Statistical Functions "
   ]
  },
  {
   "cell_type": "code",
   "execution_count": 25,
   "id": "168a0e9c",
   "metadata": {},
   "outputs": [
    {
     "name": "stdout",
     "output_type": "stream",
     "text": [
      "The original array: \n",
      "\n",
      "[[ 2 10 20]\n",
      " [80 43 31]\n",
      " [22 43 10]]\n",
      "The minimum element among the array:  2\n",
      "The maximum element among the array:  80\n",
      "The minimum element among the rows of array:  [ 2 31 10]\n",
      "The maximum element among the rows of array:  [20 80 43]\n",
      "The minimum element among the columns of array:  [ 2 10 10]\n",
      "The maximum element among the columns of array:  [80 43 31]\n"
     ]
    }
   ],
   "source": [
    "a = np.array([[2,10,20],[80,43,31],[22,43,10]])\n",
    "print(\"The original array: \\n\")\n",
    "print(a)\n",
    "print(\"The minimum element among the array: \",np.amin(a))\n",
    "print(\"The maximum element among the array: \",np.amax(a))\n",
    "\n",
    "print(\"The minimum element among the rows of array: \",np.amin(a,1))\n",
    "print(\"The maximum element among the rows of array: \",np.amax(a,1))\n",
    "\n",
    "print(\"The minimum element among the columns of array: \",np.amin(a,0))\n",
    "print(\"The maximum element among the columns of array: \",np.amax(a,0))\n"
   ]
  },
  {
   "cell_type": "code",
   "execution_count": 26,
   "id": "92612d58",
   "metadata": {},
   "outputs": [
    {
     "name": "stdout",
     "output_type": "stream",
     "text": [
      "Array: \n",
      " [[1 2 3]\n",
      " [1 5 6]\n",
      " [7 8 6]]\n",
      "\n",
      "Median of array along axis 0:  [1. 5. 6.]\n",
      "\n",
      "Mean of array along axis 0:  [3. 5. 5.]\n",
      "\n",
      " Standard deviation of array:  1.118033988749895\n"
     ]
    }
   ],
   "source": [
    "a = np.array([[1,2,3],[1,5,6],[7,8,6]])\n",
    "print(\"Array: \\n\",a)\n",
    "print(\"\\nMedian of array along axis 0: \",np.median(a,0))\n",
    "print(\"\\nMean of array along axis 0: \",np.mean(a,0))\n",
    "print(\"\\n Standard deviation of array: \",np.std([1,2,3,4]))"
   ]
  },
  {
   "cell_type": "markdown",
   "id": "9b94aa0f",
   "metadata": {},
   "source": [
    "## Q2 Create a Python program to create data frame using dictionary which contains columns like, ID, Name, Age, &amp; Salary of 15 employees.Perform all statistical operation/methods on to it."
   ]
  },
  {
   "cell_type": "code",
   "execution_count": 27,
   "id": "0c8736ca",
   "metadata": {},
   "outputs": [],
   "source": [
    "import pandas as pd"
   ]
  },
  {
   "cell_type": "code",
   "execution_count": 28,
   "id": "0afebb3f",
   "metadata": {},
   "outputs": [
    {
     "name": "stdout",
     "output_type": "stream",
     "text": [
      "{'ID': [101, 102, 103, 104, 105, 106, 107, 108, 109, 110, 111, 112, 113, 114, 115], 'Name': ['John', 'Emma', 'Sophia', 'James', 'Oliver', 'Isabella', 'Liam', 'Ethan', 'Mason', 'Ella', 'Ava', 'Noah', 'Lucas', 'Mia', 'Amelia'], 'Age': [28, 34, 29, 45, 40, 31, 27, 36, 42, 25, 38, 33, 26, 41, 35], 'Salary': [50000, 60000, 58000, 72000, 68000, 54000, 51000, 75000, 70000, 52000, 67000, 62000, 49000, 71000, 65000]}\n"
     ]
    }
   ],
   "source": [
    "# Creating a dictionary with employee data\n",
    "data = {\n",
    "    'ID': [101, 102, 103, 104, 105, 106, 107, 108, 109, 110, 111, 112, 113, 114, 115],\n",
    "    'Name': ['John', 'Emma', 'Sophia', 'James', 'Oliver', 'Isabella', 'Liam', 'Ethan', 'Mason', 'Ella', 'Ava', 'Noah', 'Lucas', 'Mia', 'Amelia'],\n",
    "    'Age': [28, 34, 29, 45, 40, 31, 27, 36, 42, 25, 38, 33, 26, 41, 35],\n",
    "    'Salary': [50000, 60000, 58000, 72000, 68000, 54000, 51000, 75000, 70000, 52000, 67000, 62000, 49000, 71000, 65000]\n",
    "}\n",
    "print(data)"
   ]
  },
  {
   "cell_type": "code",
   "execution_count": 29,
   "id": "fd439d0f",
   "metadata": {},
   "outputs": [
    {
     "data": {
      "text/html": [
       "<div>\n",
       "<style scoped>\n",
       "    .dataframe tbody tr th:only-of-type {\n",
       "        vertical-align: middle;\n",
       "    }\n",
       "\n",
       "    .dataframe tbody tr th {\n",
       "        vertical-align: top;\n",
       "    }\n",
       "\n",
       "    .dataframe thead th {\n",
       "        text-align: right;\n",
       "    }\n",
       "</style>\n",
       "<table border=\"1\" class=\"dataframe\">\n",
       "  <thead>\n",
       "    <tr style=\"text-align: right;\">\n",
       "      <th></th>\n",
       "      <th>ID</th>\n",
       "      <th>Name</th>\n",
       "      <th>Age</th>\n",
       "      <th>Salary</th>\n",
       "    </tr>\n",
       "  </thead>\n",
       "  <tbody>\n",
       "    <tr>\n",
       "      <th>0</th>\n",
       "      <td>101</td>\n",
       "      <td>John</td>\n",
       "      <td>28</td>\n",
       "      <td>50000</td>\n",
       "    </tr>\n",
       "    <tr>\n",
       "      <th>1</th>\n",
       "      <td>102</td>\n",
       "      <td>Emma</td>\n",
       "      <td>34</td>\n",
       "      <td>60000</td>\n",
       "    </tr>\n",
       "    <tr>\n",
       "      <th>2</th>\n",
       "      <td>103</td>\n",
       "      <td>Sophia</td>\n",
       "      <td>29</td>\n",
       "      <td>58000</td>\n",
       "    </tr>\n",
       "    <tr>\n",
       "      <th>3</th>\n",
       "      <td>104</td>\n",
       "      <td>James</td>\n",
       "      <td>45</td>\n",
       "      <td>72000</td>\n",
       "    </tr>\n",
       "    <tr>\n",
       "      <th>4</th>\n",
       "      <td>105</td>\n",
       "      <td>Oliver</td>\n",
       "      <td>40</td>\n",
       "      <td>68000</td>\n",
       "    </tr>\n",
       "    <tr>\n",
       "      <th>5</th>\n",
       "      <td>106</td>\n",
       "      <td>Isabella</td>\n",
       "      <td>31</td>\n",
       "      <td>54000</td>\n",
       "    </tr>\n",
       "    <tr>\n",
       "      <th>6</th>\n",
       "      <td>107</td>\n",
       "      <td>Liam</td>\n",
       "      <td>27</td>\n",
       "      <td>51000</td>\n",
       "    </tr>\n",
       "    <tr>\n",
       "      <th>7</th>\n",
       "      <td>108</td>\n",
       "      <td>Ethan</td>\n",
       "      <td>36</td>\n",
       "      <td>75000</td>\n",
       "    </tr>\n",
       "    <tr>\n",
       "      <th>8</th>\n",
       "      <td>109</td>\n",
       "      <td>Mason</td>\n",
       "      <td>42</td>\n",
       "      <td>70000</td>\n",
       "    </tr>\n",
       "    <tr>\n",
       "      <th>9</th>\n",
       "      <td>110</td>\n",
       "      <td>Ella</td>\n",
       "      <td>25</td>\n",
       "      <td>52000</td>\n",
       "    </tr>\n",
       "    <tr>\n",
       "      <th>10</th>\n",
       "      <td>111</td>\n",
       "      <td>Ava</td>\n",
       "      <td>38</td>\n",
       "      <td>67000</td>\n",
       "    </tr>\n",
       "    <tr>\n",
       "      <th>11</th>\n",
       "      <td>112</td>\n",
       "      <td>Noah</td>\n",
       "      <td>33</td>\n",
       "      <td>62000</td>\n",
       "    </tr>\n",
       "    <tr>\n",
       "      <th>12</th>\n",
       "      <td>113</td>\n",
       "      <td>Lucas</td>\n",
       "      <td>26</td>\n",
       "      <td>49000</td>\n",
       "    </tr>\n",
       "    <tr>\n",
       "      <th>13</th>\n",
       "      <td>114</td>\n",
       "      <td>Mia</td>\n",
       "      <td>41</td>\n",
       "      <td>71000</td>\n",
       "    </tr>\n",
       "    <tr>\n",
       "      <th>14</th>\n",
       "      <td>115</td>\n",
       "      <td>Amelia</td>\n",
       "      <td>35</td>\n",
       "      <td>65000</td>\n",
       "    </tr>\n",
       "  </tbody>\n",
       "</table>\n",
       "</div>"
      ],
      "text/plain": [
       "     ID      Name  Age  Salary\n",
       "0   101      John   28   50000\n",
       "1   102      Emma   34   60000\n",
       "2   103    Sophia   29   58000\n",
       "3   104     James   45   72000\n",
       "4   105    Oliver   40   68000\n",
       "5   106  Isabella   31   54000\n",
       "6   107      Liam   27   51000\n",
       "7   108     Ethan   36   75000\n",
       "8   109     Mason   42   70000\n",
       "9   110      Ella   25   52000\n",
       "10  111       Ava   38   67000\n",
       "11  112      Noah   33   62000\n",
       "12  113     Lucas   26   49000\n",
       "13  114       Mia   41   71000\n",
       "14  115    Amelia   35   65000"
      ]
     },
     "execution_count": 29,
     "metadata": {},
     "output_type": "execute_result"
    }
   ],
   "source": [
    "# Creating a DataFrame from the dictionary\n",
    "df = pd.DataFrame(data)\n",
    "df"
   ]
  },
  {
   "cell_type": "code",
   "execution_count": 30,
   "id": "47c62ceb",
   "metadata": {},
   "outputs": [
    {
     "name": "stdout",
     "output_type": "stream",
     "text": [
      "\n",
      "1. Descriptive Statistics of the DataFrame:\n",
      "               ID        Age        Salary\n",
      "count   15.000000  15.000000     15.000000\n",
      "mean   108.000000  34.000000  61600.000000\n",
      "std      4.472136   6.301927   8862.440812\n",
      "min    101.000000  25.000000  49000.000000\n",
      "25%    104.500000  28.500000  53000.000000\n",
      "50%    108.000000  34.000000  62000.000000\n",
      "75%    111.500000  39.000000  69000.000000\n",
      "max    115.000000  45.000000  75000.000000\n",
      "\n",
      "2. Mean Age: 34.0\n",
      "Mean Salary: 61600.0\n",
      "\n",
      "3. Median Age: 34.0\n",
      "Median Salary: 62000.0\n",
      "\n",
      "4. Standard Deviation of Age: 6.301927142889365\n",
      "Standard Deviation of Salary: 8862.440811811222\n",
      "\n",
      "5. Minimum Age: 25\n",
      "Maximum Age: 45\n",
      "Minimum Salary: 49000\n",
      "Maximum Salary: 75000\n",
      "\n",
      "6. Total Salary of all Employees: 924000\n"
     ]
    }
   ],
   "source": [
    "# 1. Descriptive Statistics\n",
    "print(\"\\n1. Descriptive Statistics of the DataFrame:\")\n",
    "print(df.describe())\n",
    "\n",
    "# 2. Mean of Age and Salary\n",
    "print(\"\\n2. Mean Age:\", df['Age'].mean())\n",
    "print(\"Mean Salary:\", df['Salary'].mean())\n",
    "\n",
    "# 3. Median of Age and Salary\n",
    "print(\"\\n3. Median Age:\", df['Age'].median())\n",
    "print(\"Median Salary:\", df['Salary'].median())\n",
    "\n",
    "# 4. Standard Deviation of Age and Salary\n",
    "print(\"\\n4. Standard Deviation of Age:\", df['Age'].std())\n",
    "print(\"Standard Deviation of Salary:\", df['Salary'].std())\n",
    "\n",
    "# 5. Minimum and Maximum values of Age and Salary\n",
    "print(\"\\n5. Minimum Age:\", df['Age'].min())\n",
    "print(\"Maximum Age:\", df['Age'].max())\n",
    "print(\"Minimum Salary:\", df['Salary'].min())\n",
    "print(\"Maximum Salary:\", df['Salary'].max())\n",
    "\n",
    "# 6. Sum of all Salaries\n",
    "print(\"\\n6. Total Salary of all Employees:\", df['Salary'].sum())"
   ]
  },
  {
   "cell_type": "markdown",
   "id": "c0a3a83b",
   "metadata": {},
   "source": [
    "## Q3 Create a Python program to demonstrate how we can perform indexing and slicing operation on Student.csv file."
   ]
  },
  {
   "cell_type": "code",
   "execution_count": 31,
   "id": "46cb7c2a",
   "metadata": {},
   "outputs": [
    {
     "name": "stdout",
     "output_type": "stream",
     "text": [
      "Student DataFrame:\n",
      "   ID     Name  Age  Marks Grade\n",
      "0   1    Alice   20     85     A\n",
      "1   2      Bob   21     90     A\n",
      "2   3  Charlie   19     88    B+\n",
      "3   4    David   22     75     B\n",
      "4   5      Eva   20     95    A+\n",
      "\n",
      "1. Using loc to access rows based on labels (Row 0 and 2, all columns):\n",
      "   ID     Name  Age  Marks Grade\n",
      "0   1    Alice   20     85     A\n",
      "2   3  Charlie   19     88    B+\n",
      "\n",
      "2. Using iloc to access rows based on positions (Row 1 and 3, first 2 columns):\n",
      "   ID   Name\n",
      "1   2    Bob\n",
      "3   4  David\n",
      "\n",
      "3. Slicing rows 1 to 4 (all columns):\n",
      "   ID     Name  Age  Marks Grade\n",
      "1   2      Bob   21     90     A\n",
      "2   3  Charlie   19     88    B+\n",
      "3   4    David   22     75     B\n",
      "4   5      Eva   20     95    A+\n",
      "\n",
      "4. Slicing specific columns ('Name' and 'Marks') for all rows:\n",
      "      Name  Marks\n",
      "0    Alice     85\n",
      "1      Bob     90\n",
      "2  Charlie     88\n",
      "3    David     75\n",
      "4      Eva     95\n",
      "\n",
      "5. Slicing first two columns for first three rows:\n",
      "   ID     Name\n",
      "0   1    Alice\n",
      "1   2      Bob\n",
      "2   3  Charlie\n",
      "\n",
      "6. Students with Marks greater than 80:\n",
      "   ID     Name  Age  Marks Grade\n",
      "0   1    Alice   20     85     A\n",
      "1   2      Bob   21     90     A\n",
      "2   3  Charlie   19     88    B+\n",
      "4   5      Eva   20     95    A+\n"
     ]
    }
   ],
   "source": [
    "# Importing the pandas library\n",
    "import pandas as pd\n",
    "\n",
    "# Load the Student.csv file into a DataFrame\n",
    "df = pd.read_csv('Student.csv')\n",
    "\n",
    "# Display the loaded DataFrame\n",
    "print(\"Student DataFrame:\")\n",
    "print(df)\n",
    "\n",
    "# 1. Indexing using loc (based on labels)\n",
    "print(\"\\n1. Using loc to access rows based on labels (Row 0 and 2, all columns):\")\n",
    "print(df.loc[[0, 2]])  # Access rows with index labels 0 and 2\n",
    "\n",
    "# 2. Indexing using iloc (based on positions)\n",
    "print(\"\\n2. Using iloc to access rows based on positions (Row 1 and 3, first 2 columns):\")\n",
    "print(df.iloc[[1, 3], :2])  # Access rows at index positions 1 and 3, first 2 columns\n",
    "\n",
    "# 3. Slicing rows\n",
    "print(\"\\n3. Slicing rows 1 to 4 (all columns):\")\n",
    "print(df[1:5])  # Slicing rows 1 to 4 (upper limit excluded)\n",
    "\n",
    "# 4. Slicing columns (by name)\n",
    "print(\"\\n4. Slicing specific columns ('Name' and 'Marks') for all rows:\")\n",
    "print(df[['Name', 'Marks']])  # Access the 'Name' and 'Marks' columns\n",
    "\n",
    "# 5. Slicing columns (by position using iloc)\n",
    "print(\"\\n5. Slicing first two columns for first three rows:\")\n",
    "print(df.iloc[:3, :2])  # First three rows, first two columns\n",
    "\n",
    "# 6. Conditional Indexing (Filter based on a condition)\n",
    "print(\"\\n6. Students with Marks greater than 80:\")\n",
    "print(df[df['Marks'] > 80])  # Filter rows where 'Marks' column is greater than 80"
   ]
  }
 ],
 "metadata": {
  "kernelspec": {
   "display_name": "Python 3 (ipykernel)",
   "language": "python",
   "name": "python3"
  },
  "language_info": {
   "codemirror_mode": {
    "name": "ipython",
    "version": 3
   },
   "file_extension": ".py",
   "mimetype": "text/x-python",
   "name": "python",
   "nbconvert_exporter": "python",
   "pygments_lexer": "ipython3",
   "version": "3.9.13"
  }
 },
 "nbformat": 4,
 "nbformat_minor": 5
}
