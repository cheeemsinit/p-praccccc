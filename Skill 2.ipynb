{
 "cells": [
  {
   "cell_type": "code",
   "execution_count": null,
   "id": "9205655b",
   "metadata": {},
   "outputs": [],
   "source": []
  },
  {
   "cell_type": "code",
   "execution_count": 1,
   "id": "1023d941",
   "metadata": {},
   "outputs": [
    {
     "name": "stdout",
     "output_type": "stream",
     "text": [
      "['This', 'statement', 'writes', 'one', 'line', 'in', 'the', 'file', 'This', 'line', 'also', 'gets', 'added', 'in', 'the', 'file']\n",
      "16\n"
     ]
    }
   ],
   "source": [
    "#Q2 Create python program to read the content of one disk file, count the number of words from it and display it back to user.\n",
    "file=open(\"newfile.txt\",\"r\")\n",
    "a=file.read()\n",
    "b=a.split()\n",
    "print(b)\n",
    "c=len(b)\n",
    "print(c)"
   ]
  },
  {
   "cell_type": "code",
   "execution_count": 3,
   "id": "fdf05487",
   "metadata": {},
   "outputs": [
    {
     "name": "stdout",
     "output_type": "stream",
     "text": [
      "This_statement_writes_one_line_in_the_file\n",
      "This_line_also_gets_added_in_the_file\n"
     ]
    }
   ],
   "source": [
    "#Q3 Create the python program to read the content of one file and copy into another file by replacing blank spaces by \n",
    "#underscore(_). Display the contents of both the files at the end.\n",
    "file=open(\"newfile.txt\",\"r\")\n",
    "a=file.read()\n",
    "b=a.replace(\" \",\"_\")\n",
    "print(b)"
   ]
  }
 ],
 "metadata": {
  "kernelspec": {
   "display_name": "Python 3 (ipykernel)",
   "language": "python",
   "name": "python3"
  },
  "language_info": {
   "codemirror_mode": {
    "name": "ipython",
    "version": 3
   },
   "file_extension": ".py",
   "mimetype": "text/x-python",
   "name": "python",
   "nbconvert_exporter": "python",
   "pygments_lexer": "ipython3",
   "version": "3.9.13"
  }
 },
 "nbformat": 4,
 "nbformat_minor": 5
}
