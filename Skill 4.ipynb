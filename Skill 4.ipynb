{
 "cells": [
  {
   "cell_type": "code",
   "execution_count": 6,
   "id": "f95c603b",
   "metadata": {},
   "outputs": [
    {
     "name": "stdout",
     "output_type": "stream",
     "text": [
      "['2016', '09', '02']\n"
     ]
    }
   ],
   "source": [
    "#Q1 Write a Python program to extract year, month and date from an URL.\n",
    "s='https://www.washingtonpost.com/news/football-insider/wp/2016/09/02/odell-beckhams-fame-rests-on-one-stupid-little-ball-josh-norman-tells-author/&quot;'\n",
    "q=re.findall('[0-9]+',s)\n",
    "print(q)"
   ]
  },
  {
   "cell_type": "code",
   "execution_count": 2,
   "id": "0c3a0666",
   "metadata": {},
   "outputs": [
    {
     "name": "stdout",
     "output_type": "stream",
     "text": [
      "Enter your number:09874567897\n",
      "It is valid number\n"
     ]
    }
   ],
   "source": [
    "#Q2 Write a Python program to accept a mobile number from user and check whether it is valid mobile number or not.\n",
    "import re\n",
    "number=input('Enter your number:')\n",
    "pattern = r\"^(0|91)?[6-9]\\d{9}$\"\n",
    "\n",
    "if re.match(pattern, number):\n",
    "    print(\"It is valid number\")\n",
    "else:\n",
    "    print(\"It is invalid number\")"
   ]
  },
  {
   "cell_type": "code",
   "execution_count": 3,
   "id": "4fcfd923",
   "metadata": {},
   "outputs": [
    {
     "name": "stdout",
     "output_type": "stream",
     "text": [
      "Enter your Email ID: ronitrshah@gmail.com\n",
      "It is valid Email ID\n"
     ]
    }
   ],
   "source": [
    "#Q3 Write a Python program to accept a email id from user and check whether user has entered valid email ID or not.\n",
    "import re\n",
    "email = input(\"Enter your Email ID: \")\n",
    "pattern = r'^[a-z][a-z0-9_.]*@[a-z]+\\.[a-z]+$'\n",
    "\n",
    "if re.match(pattern, email):\n",
    "    print(\"It is valid Email ID\")\n",
    "else:\n",
    "        print(\"It is invalid Email ID\")"
   ]
  }
 ],
 "metadata": {
  "kernelspec": {
   "display_name": "Python 3 (ipykernel)",
   "language": "python",
   "name": "python3"
  },
  "language_info": {
   "codemirror_mode": {
    "name": "ipython",
    "version": 3
   },
   "file_extension": ".py",
   "mimetype": "text/x-python",
   "name": "python",
   "nbconvert_exporter": "python",
   "pygments_lexer": "ipython3",
   "version": "3.9.13"
  }
 },
 "nbformat": 4,
 "nbformat_minor": 5
}
