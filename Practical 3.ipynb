{
 "cells": [
  {
   "cell_type": "code",
   "execution_count": 2,
   "id": "af9aa7bc",
   "metadata": {},
   "outputs": [],
   "source": [
    "#Q1 Create a class Product with Product ID, Name, Quantity, and Rate as instance variables. Accept the values of instance \n",
    "#variables from user; calculate the Price of each product and Total Amount. Display all product details along with Prize \n",
    "#per product and Total Amount back to user.\n",
    "class Product:\n",
    "    def __init__(self,pid,name,qty,rate):\n",
    "        self.product_id=pid\n",
    "        self.product_name=name\n",
    "        self.product_quantity=qty\n",
    "        self.product_rate=rate\n",
    "\n",
    "    def Display(self):\n",
    "        print(\"Product Id\",pid)\n",
    "        print(\"Product Name\",name)\n",
    "        print(\"Product Quantity\",qty)\n",
    "        print(\"Rate\",rate)\n",
    "        total=quantity*rate\n",
    "        print(\"Total Price\",total)"
   ]
  },
  {
   "cell_type": "code",
   "execution_count": 3,
   "id": "761a4cb3",
   "metadata": {},
   "outputs": [
    {
     "name": "stdout",
     "output_type": "stream",
     "text": [
      "Enter Product Id: 101\n",
      "Enter Product Name: book\n",
      "Enter Product Quantity: 10\n",
      "Enter Product Rate: 4\n",
      "Product Id 101\n",
      "Product Name book\n",
      "Product Quantity 10\n",
      "Rate 4\n",
      "Total Price 40\n"
     ]
    }
   ],
   "source": [
    "pid=int(input(\"Enter Product Id: \"))\n",
    "name=input(\"Enter Product Name: \")\n",
    "quantity=int(input(\"Enter Product Quantity: \"))\n",
    "rate=int(input(\"Enter Product Rate: \"))\n",
    "P1=Product(pid,name,quantity,rate)\n",
    "P1.Display()"
   ]
  },
  {
   "cell_type": "code",
   "execution_count": 4,
   "id": "97963c7d",
   "metadata": {},
   "outputs": [
    {
     "name": "stdout",
     "output_type": "stream",
     "text": [
      "Hours:  8\n",
      "Minutes:  11\n",
      "Seconds:  5\n"
     ]
    }
   ],
   "source": [
    "#Q2 Create a class Time with instance variable Hours, Minutes, and Seconds. Accept the values of instance variable from \n",
    "#user and initialize using constructor. Overload the ‘+’operator to add two Time class objects to achieve polymorphism \n",
    "#in Python.\n",
    "class Time:\n",
    "    def __init__(self,h,m,s):\n",
    "        self.hrs = h\n",
    "        self.mins = m\n",
    "        self.sec = s\n",
    "    \n",
    "    def __add__(self,Ob2):\n",
    "        Ob3 = Time(0,0,0)\n",
    "        Ob3.hrs = self.hrs + Ob2.hrs\n",
    "        Ob3.mins = self.mins + Ob2.mins\n",
    "        Ob3.sec = self.sec + Ob2.sec\n",
    "        \n",
    "        if Ob3.sec >=60:\n",
    "            Ob3.sec = Ob3.sec - 60\n",
    "            Ob3.mins = Ob3.mins + 1\n",
    "            \n",
    "        if Ob3.mins >=60:\n",
    "            Ob3.mins = Ob3.mins - 60\n",
    "            Ob3.hrs = Ob3.hrs + 1\n",
    "        return Ob3\n",
    "            \n",
    "    def Display(self):\n",
    "        print(\"Hours: \",self.hrs)\n",
    "        print(\"Minutes: \",self.mins)\n",
    "        print(\"Seconds: \",self.sec)\n",
    "        \n",
    "T1 = Time(3,40,45)\n",
    "T2 = Time(4,30,20)\n",
    "T3 = Time(0,0,0)\n",
    "\n",
    "T3 = T1+T2\n",
    "T3.Display()\n",
    "        "
   ]
  },
  {
   "cell_type": "code",
   "execution_count": 4,
   "id": "33bad094",
   "metadata": {},
   "outputs": [],
   "source": [
    "#Q3 Create a class Student with data members roll no &amp; name, add appropriate member methods to accept and display \n",
    "#student details. Inherit 3 classes from Student as Science, Arts &amp; Commerce. Science class contains marks of two \n",
    "#subjects as data members. Arts class contains marks of two subjects as data members and Commerce class contains marks of \n",
    "#two subjects as data members. Create Python program to achieve Hierarchical Inheritance.\n",
    "class Student:\n",
    "    def __init__(self,rollno,name):\n",
    "        self.rno=rollno\n",
    "        self.sname=name\n",
    "        \n",
    "class Science(Student):\n",
    "    def __init__(self,rollno,name,phy,che):\n",
    "        Student.__init__(self,rollno,name)\n",
    "        self.physics=phy\n",
    "        self.chemistry=che\n",
    "        \n",
    "    def Sdisplay(self):\n",
    "        print(\"Roll Number of Student: \",self.rno)\n",
    "        print(\"Name of Student: \",self.sname)\n",
    "        print(\"Physics Marks: \",self.physics)\n",
    "        print(\"Chemistry Marks: \",self.chemistry)\n",
    "        \n",
    "class Arts(Student):\n",
    "    def __init__(self,rollno,name,eng,eco):\n",
    "        Student.__init__(self,rollno,name)\n",
    "        self.english=eng\n",
    "        self.economics=eco\n",
    "        \n",
    "    def Adisplay(self):\n",
    "        print(\"Roll Number of Student: \",self.rno)\n",
    "        print(\"Name of Student: \",self.sname)\n",
    "        print(\"English Marks: \",self.english)\n",
    "        print(\"Economics Marks: \",self.economics)\n",
    "        \n",
    "class Commerce(Student):\n",
    "    def __init__(self,rollno,name,acc,bank):\n",
    "        Student.__init__(self,rollno,name)\n",
    "        self.accounts=acc\n",
    "        self.banking=bank\n",
    "        \n",
    "    def Cdisplay(self):\n",
    "        print(\"Roll Number of Student: \",self.rno)\n",
    "        print(\"Name of Student: \",self.sname)\n",
    "        print(\"Accounts Marks: \",self.accounts)\n",
    "        print(\"Banking Marks: \",self.banking)"
   ]
  },
  {
   "cell_type": "code",
   "execution_count": 5,
   "id": "b2667585",
   "metadata": {},
   "outputs": [
    {
     "name": "stdout",
     "output_type": "stream",
     "text": [
      "Roll Number of Student:  1\n",
      "Name of Student:  Amar\n",
      "Physics Marks:  89\n",
      "Chemistry Marks:  78\n",
      "Roll Number of Student:  2\n",
      "Name of Student:  Akbar\n",
      "English Marks:  67\n",
      "Economics Marks:  80\n",
      "Roll Number of Student:  3\n",
      "Name of Student:  Ankush\n",
      "Accounts Marks:  92\n",
      "Banking Marks:  90\n"
     ]
    }
   ],
   "source": [
    "S1=Science (1,\"Amar\", 89,78)\n",
    "S1.Sdisplay()\n",
    "\n",
    "A1=Arts (2, \"Akbar\", 67, 80)\n",
    "A1.Adisplay()\n",
    "\n",
    "C1=Commerce (3, \"Ankush\", 92, 90)\n",
    "C1.Cdisplay()"
   ]
  },
  {
   "cell_type": "code",
   "execution_count": 6,
   "id": "ef3acba2",
   "metadata": {},
   "outputs": [],
   "source": [
    "#Q4 Create an abstract base class called Shape with two instance variables Dimention-1 and Dimention-2. Dimensions of shape\n",
    "#used to compute the area. Derive two specific classes called Triangle and Rectangle from the base Shape. Call the base \n",
    "#class constructor through derived class constructor for initializing data members. Add one member method area () to \n",
    "#compute and display area of shapes. Create python program to implement run time polymorphism by using method overriding.\n",
    "from math import pi\n",
    "class Shape:\n",
    "    def __init__(self,name):\n",
    "        self.name=name\n",
    "    \n",
    "    def area(self):\n",
    "        pass\n",
    "    \n",
    "class Square(Shape):\n",
    "    def __init__(self, length):\n",
    "        super().__init__(\"Square\")\n",
    "        self.length = length\n",
    "        \n",
    "    def area(self):\n",
    "        return self.length**2\n",
    "    \n",
    "class Circle(Shape):\n",
    "    def __init__(self, radius):\n",
    "        super().__init__(\"Circle\")\n",
    "        self.radius=radius\n",
    "        \n",
    "    def area(self):\n",
    "        return pi*self.radius**2"
   ]
  },
  {
   "cell_type": "code",
   "execution_count": 7,
   "id": "66152e85",
   "metadata": {},
   "outputs": [
    {
     "name": "stdout",
     "output_type": "stream",
     "text": [
      "16\n",
      "153.93804002589985\n"
     ]
    }
   ],
   "source": [
    "a = Square(4)\n",
    "b = Circle(7)\n",
    "\n",
    "print (a.area())\n",
    "print(b.area())"
   ]
  }
 ],
 "metadata": {
  "kernelspec": {
   "display_name": "Python 3 (ipykernel)",
   "language": "python",
   "name": "python3"
  },
  "language_info": {
   "codemirror_mode": {
    "name": "ipython",
    "version": 3
   },
   "file_extension": ".py",
   "mimetype": "text/x-python",
   "name": "python",
   "nbconvert_exporter": "python",
   "pygments_lexer": "ipython3",
   "version": "3.9.13"
  }
 },
 "nbformat": 4,
 "nbformat_minor": 5
}
