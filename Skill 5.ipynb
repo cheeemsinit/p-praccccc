{
 "cells": [
  {
   "cell_type": "markdown",
   "id": "439564a7",
   "metadata": {},
   "source": [
    "## Q1 Create a Python program to create table Employee and Department as follows: \n",
    "## Employee: E_ID, name, age, salary, DID.\n",
    "## Department: DID Dname.\n",
    "## Add sufficient records in both. Display the records of those employees who are working in sales department and age is between 30 and 40."
   ]
  },
  {
   "cell_type": "code",
   "execution_count": 1,
   "id": "ebe7a179",
   "metadata": {},
   "outputs": [],
   "source": [
    "import mysql.connector"
   ]
  },
  {
   "cell_type": "code",
   "execution_count": 2,
   "id": "4a3717c1",
   "metadata": {},
   "outputs": [
    {
     "name": "stdout",
     "output_type": "stream",
     "text": [
      "<mysql.connector.connection_cext.CMySQLConnection object at 0x0000021DB4FDFE80>\n"
     ]
    }
   ],
   "source": [
    "myconn=mysql.connector.connect(host=\"localhost\",user=\"root\",passwd=\"ronit108\",database=\"mydb\")\n",
    "print(myconn)"
   ]
  },
  {
   "cell_type": "code",
   "execution_count": 3,
   "id": "17f8acc6",
   "metadata": {},
   "outputs": [],
   "source": [
    "cur = myconn.cursor()"
   ]
  },
  {
   "cell_type": "code",
   "execution_count": 8,
   "id": "23e6e807",
   "metadata": {},
   "outputs": [],
   "source": [
    "dbs=cur.execute(\"create table Dept(did int(10) not null primary key,dname varchar(20) not null)\")"
   ]
  },
  {
   "cell_type": "code",
   "execution_count": 9,
   "id": "46d48a10",
   "metadata": {},
   "outputs": [
    {
     "name": "stdout",
     "output_type": "stream",
     "text": [
      "Enter Dept ID:1\n",
      "Enter Dept Name:abc\n",
      "Enter Dept ID:2\n",
      "Enter Dept Name:def\n",
      "Enter Dept ID:3\n",
      "Enter Dept Name:ghi\n"
     ]
    }
   ],
   "source": [
    "for i in range(3):\n",
    "    did= int(input(\"Enter Dept ID:\"))\n",
    "    dname= input(\"Enter Dept Name:\")\n",
    "    rec= (did,dname)\n",
    "    cur.execute(\"insert into Dept(did,dname)values(%s,%s)\",rec)\n",
    "    myconn.commit()"
   ]
  },
  {
   "cell_type": "code",
   "execution_count": 10,
   "id": "1e049936",
   "metadata": {},
   "outputs": [
    {
     "name": "stdout",
     "output_type": "stream",
     "text": [
      "(1, 'abc')\n",
      "(2, 'def')\n",
      "(3, 'ghi')\n"
     ]
    }
   ],
   "source": [
    "dbs=cur.execute(\"select * from Dept\")\n",
    "result=cur.fetchall()\n",
    "\n",
    "for i in result:\n",
    "    print(i) "
   ]
  },
  {
   "cell_type": "code",
   "execution_count": 14,
   "id": "6d3637d2",
   "metadata": {},
   "outputs": [],
   "source": [
    "dbs=cur.execute(\"create table Emp(eid int(10) not null primary key,ename varchar(20) not null,age int(10),salary int(10) not null,did int(10) not null, foreign key(did) references dept(did))\")"
   ]
  },
  {
   "cell_type": "code",
   "execution_count": 15,
   "id": "27a006bf",
   "metadata": {},
   "outputs": [
    {
     "name": "stdout",
     "output_type": "stream",
     "text": [
      "Enter Employee ID:1\n",
      "Enter Employee Name:Ronit\n",
      "Enter Age:21\n",
      "Enter Salary:70000\n",
      "Enter Dept Id:1\n",
      "Enter Employee ID:2\n",
      "Enter Employee Name:Anuj\n",
      "Enter Age:20\n",
      "Enter Salary:65000\n",
      "Enter Dept Id:2\n",
      "Enter Employee ID:3\n",
      "Enter Employee Name:Aditya\n",
      "Enter Age:22\n",
      "Enter Salary:72000\n",
      "Enter Dept Id:3\n"
     ]
    }
   ],
   "source": [
    "for i in range(3):\n",
    "    eid= int(input(\"Enter Employee ID:\"))\n",
    "    ename= input(\"Enter Employee Name:\")\n",
    "    age=int(input(\"Enter Age:\"))\n",
    "    salary=int(input(\"Enter Salary:\"))\n",
    "    did= int(input(\"Enter Dept Id:\"))\n",
    "    rec= (eid,ename,age,salary,did)\n",
    "    cur.execute(\"insert into Emp(eid,ename,age,salary,did)values(%s,%s,%s,%s,%s)\",rec)\n",
    "    myconn.commit()"
   ]
  },
  {
   "cell_type": "code",
   "execution_count": 16,
   "id": "5a28cf7c",
   "metadata": {},
   "outputs": [
    {
     "name": "stdout",
     "output_type": "stream",
     "text": [
      "(1, 'Ronit', 21, 70000, 1)\n",
      "(2, 'Anuj', 20, 65000, 2)\n",
      "(3, 'Aditya', 22, 72000, 3)\n"
     ]
    }
   ],
   "source": [
    "dbs=cur.execute(\"select * from Emp\")\n",
    "result=cur.fetchall()\n",
    "\n",
    "for i in result:\n",
    "    print(i) "
   ]
  },
  {
   "cell_type": "code",
   "execution_count": 17,
   "id": "7cd14605",
   "metadata": {},
   "outputs": [
    {
     "name": "stdout",
     "output_type": "stream",
     "text": [
      "('Ronit', 21, 70000, 'abc')\n"
     ]
    }
   ],
   "source": [
    "dbs=cur.execute(\"select ename,age,salary,dname from Emp,Dept where emp.did=dept.did and dept.dname='abc' and emp.age between 20 and 22\")\n",
    "result=cur.fetchall()\n",
    "for i in result:\n",
    "    print(i)"
   ]
  },
  {
   "cell_type": "markdown",
   "id": "936c595e",
   "metadata": {},
   "source": [
    "## Q2 Create a Python program to accept and add Student education details in MySQl database table and display records of those students who have secured first class in graduation. Assume suitable table structure."
   ]
  },
  {
   "cell_type": "code",
   "execution_count": 18,
   "id": "16ad0286",
   "metadata": {},
   "outputs": [],
   "source": [
    "import mysql.connector"
   ]
  },
  {
   "cell_type": "code",
   "execution_count": 19,
   "id": "5a51e7aa",
   "metadata": {},
   "outputs": [
    {
     "name": "stdout",
     "output_type": "stream",
     "text": [
      "<mysql.connector.connection_cext.CMySQLConnection object at 0x0000021DB4FEBFD0>\n"
     ]
    }
   ],
   "source": [
    "myconn=mysql.connector.connect(host=\"localhost\",user=\"root\",passwd=\"ronit108\",database=\"mydb\")\n",
    "print(myconn)"
   ]
  },
  {
   "cell_type": "code",
   "execution_count": 25,
   "id": "6b647dd6",
   "metadata": {},
   "outputs": [],
   "source": [
    "dbs=cur.execute(\"create table Stud(sid int(10) not null primary key,sname varchar(20) not null,qual varchar(10), cls varchar(10) not null)\")"
   ]
  },
  {
   "cell_type": "code",
   "execution_count": 26,
   "id": "d85db19f",
   "metadata": {},
   "outputs": [
    {
     "name": "stdout",
     "output_type": "stream",
     "text": [
      "Enter Student ID:1\n",
      "Enter Student Name:Ronit\n",
      "Enter if Graduate:Graduate\n",
      "Enter Class:First\n",
      "Enter Student ID:2\n",
      "Enter Student Name:Aryan\n",
      "Enter if Graduate:Graduate\n",
      "Enter Class:Second\n",
      "Enter Student ID:3\n",
      "Enter Student Name:Anika\n",
      "Enter if Graduate:Graduate \n",
      "Enter Class:First\n"
     ]
    }
   ],
   "source": [
    "for i in range(3):\n",
    "    sid= int(input(\"Enter Student ID:\"))\n",
    "    sname= input(\"Enter Student Name:\")\n",
    "    qual=input(\"Enter if Graduate:\")\n",
    "    cls=input(\"Enter Class:\")\n",
    "    rec= (sid,sname,qual,cls)\n",
    "    cur.execute(\"insert into Stud(sid,sname,qual,cls)values(%s,%s,%s,%s)\",rec)\n",
    "    myconn.commit()"
   ]
  },
  {
   "cell_type": "code",
   "execution_count": 27,
   "id": "022f169f",
   "metadata": {},
   "outputs": [
    {
     "name": "stdout",
     "output_type": "stream",
     "text": [
      "(1, 'Ronit', 'Graduate', 'First')\n",
      "(2, 'Aryan', 'Graduate', 'Second')\n",
      "(3, 'Anika', 'Graduate ', 'First')\n"
     ]
    }
   ],
   "source": [
    "dbs=cur.execute(\"select * from Stud\")\n",
    "result=cur.fetchall()\n",
    "for i in result:\n",
    "    print(i) "
   ]
  },
  {
   "cell_type": "code",
   "execution_count": 28,
   "id": "b37badb6",
   "metadata": {},
   "outputs": [
    {
     "name": "stdout",
     "output_type": "stream",
     "text": [
      "(1, 'Ronit', 'Graduate', 'First')\n"
     ]
    }
   ],
   "source": [
    "dbs=cur.execute(\"select * from stud where qual='graduate' and cls='first' \")\n",
    "result=cur.fetchall()\n",
    "\n",
    "for i in result:\n",
    "    print(i)"
   ]
  },
  {
   "cell_type": "code",
   "execution_count": null,
   "id": "3a7bf1e3",
   "metadata": {},
   "outputs": [],
   "source": []
  }
 ],
 "metadata": {
  "kernelspec": {
   "display_name": "Python 3 (ipykernel)",
   "language": "python",
   "name": "python3"
  },
  "language_info": {
   "codemirror_mode": {
    "name": "ipython",
    "version": 3
   },
   "file_extension": ".py",
   "mimetype": "text/x-python",
   "name": "python",
   "nbconvert_exporter": "python",
   "pygments_lexer": "ipython3",
   "version": "3.9.13"
  }
 },
 "nbformat": 4,
 "nbformat_minor": 5
}
