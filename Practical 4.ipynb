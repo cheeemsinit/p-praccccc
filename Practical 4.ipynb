{
 "cells": [
  {
   "cell_type": "code",
   "execution_count": 1,
   "id": "c31aacd0",
   "metadata": {},
   "outputs": [
    {
     "name": "stdout",
     "output_type": "stream",
     "text": [
      "start index: 7\n",
      "end index:  18\n",
      "the number of occurences: 1\n"
     ]
    }
   ],
   "source": [
    "#Q1 Write a Python program to find the occurrence and position of the substrings within a string.\n",
    "import re\n",
    "count = 0\n",
    "pattern=re.compile('programming')\n",
    "matcher=pattern.finditer('Python programming, Java Programming')\n",
    "for match in matcher:\n",
    "    count = count + 1\n",
    "    print('start index:',match.start())\n",
    "    print('end index: ',match.end())\n",
    "print('the number of occurences:' ,count)"
   ]
  },
  {
   "cell_type": "code",
   "execution_count": 2,
   "id": "7c86271e",
   "metadata": {},
   "outputs": [
    {
     "name": "stdout",
     "output_type": "stream",
     "text": [
      "Programming_For_Data_Science_is_an_interesting_subject\n",
      "Its scope is high in future\n"
     ]
    }
   ],
   "source": [
    "#Q2 Write a Python program to replace whitespaces with an underscore and vice versa in given string.\n",
    "a = re.sub(\" \",\"_\",\"Programming For Data Science is an interesting subject\")\n",
    "b = re.sub(\"_\",\" \",\"Its_scope_is_high_in_future\")\n",
    "print(a)\n",
    "print(b)"
   ]
  },
  {
   "cell_type": "code",
   "execution_count": 3,
   "id": "d6fb57bc",
   "metadata": {},
   "outputs": [
    {
     "name": "stdout",
     "output_type": "stream",
     "text": [
      "216.8.94.106\n"
     ]
    }
   ],
   "source": [
    "#Q3. Write a Python program to remove leading zeros from an IP address. \n",
    "#Example: Input: IP = \"216.008.094.196\";\n",
    "#Output: IP = \"216.8.94.196\";\n",
    "import re\n",
    "def remove_leading_zeroes(text):\n",
    "    string = re.sub('\\.[0]*','.',text)\n",
    "    return string\n",
    "\n",
    "input=\"216.008.094.106\"\n",
    "output=(remove_leading_zeroes(input))\n",
    "print(output)"
   ]
  }
 ],
 "metadata": {
  "kernelspec": {
   "display_name": "Python 3 (ipykernel)",
   "language": "python",
   "name": "python3"
  },
  "language_info": {
   "codemirror_mode": {
    "name": "ipython",
    "version": 3
   },
   "file_extension": ".py",
   "mimetype": "text/x-python",
   "name": "python",
   "nbconvert_exporter": "python",
   "pygments_lexer": "ipython3",
   "version": "3.9.13"
  }
 },
 "nbformat": 4,
 "nbformat_minor": 5
}
