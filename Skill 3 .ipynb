{
 "cells": [
  {
   "cell_type": "code",
   "execution_count": 1,
   "id": "c0bec8b2-3e5a-425b-b203-cbd32454d8c6",
   "metadata": {},
   "outputs": [
    {
     "name": "stdout",
     "output_type": "stream",
     "text": [
      "Enter current day: 22\n",
      "Enter current month: 09\n",
      "Enter current year: 2024\n",
      "Enter birth day: 16\n",
      "Enter birth month: 12\n",
      "Enter birth year: 2002\n",
      "Your current age is 21 years, 9 months, and 11 days.\n"
     ]
    }
   ],
   "source": [
    "#Q1 Create a class Date with instance variables Day, Month, and Year. Accept the values from user and initialize the \n",
    "#instance variable through the constructors. Overload the binary ‘-‘minus operator to find the difference between two \n",
    "#Date class objects. Create Python program to accept current date and birth date from user and find the current age of user.\n",
    "class Date:\n",
    "    def __init__(self, day, month, year):\n",
    "        self.day = day\n",
    "        self.month = month\n",
    "        self.year = year\n",
    "\n",
    "    def __sub__(self, other):\n",
    "        return (self.year - other.year) * 365 + (self.month - other.month) * 30 + (self.day - other.day)\n",
    "\n",
    "current_day = int(input(\"Enter current day: \"))\n",
    "current_month = int(input(\"Enter current month: \"))\n",
    "current_year = int(input(\"Enter current year: \"))\n",
    "birth_day = int(input(\"Enter birth day: \"))\n",
    "birth_month = int(input(\"Enter birth month: \"))\n",
    "birth_year = int(input(\"Enter birth year: \"))\n",
    "\n",
    "current_date = Date(current_day, current_month, current_year)\n",
    "birth_date = Date(birth_day, birth_month, birth_year)\n",
    "\n",
    "age_in_days = current_date - birth_date\n",
    "years = age_in_days // 365\n",
    "months = (age_in_days % 365) // 30\n",
    "days = (age_in_days % 365) % 30\n",
    "\n",
    "print(f\"Your current age is {years} years, {months} months, and {days} days.\")"
   ]
  },
  {
   "cell_type": "code",
   "execution_count": 3,
   "id": "63572d8f-1b1c-417c-997c-ddb635b2d583",
   "metadata": {},
   "outputs": [
    {
     "name": "stdout",
     "output_type": "stream",
     "text": [
      "Truck Details:\n"
     ]
    },
    {
     "name": "stdin",
     "output_type": "stream",
     "text": [
      "Enter vehicle model:  Tata\n",
      "Enter registration number:  1234\n",
      "Enter fuel capacity:  70\n",
      "Enter vehicle speed:  85\n",
      "Enter weight limit:  60\n"
     ]
    },
    {
     "name": "stdout",
     "output_type": "stream",
     "text": [
      "Vehicle Model: Tata\n",
      "Registration Number: 1234\n",
      "Fuel Capacity: 70.0\n",
      "Vehicle Speed: 85.0\n",
      "Weight Limit: 60.0\n",
      "\n",
      "Bus Details:\n"
     ]
    },
    {
     "name": "stdin",
     "output_type": "stream",
     "text": [
      "Enter vehicle model:  Volvo\n",
      "Enter registration number:  2345\n",
      "Enter fuel capacity:  65\n",
      "Enter vehicle speed:  70\n",
      "Enter passenger capacity:  50\n"
     ]
    },
    {
     "name": "stdout",
     "output_type": "stream",
     "text": [
      "Vehicle Model: Volvo\n",
      "Registration Number: 2345\n",
      "Fuel Capacity: 65.0\n",
      "Vehicle Speed: 70.0\n",
      "Passenger Capacity: 50\n"
     ]
    }
   ],
   "source": [
    "#Q2 Create a class Vehicle with instance variable Vehicle Model, Registration number, Fuel capacity, and Vehicle Speed. \n",
    "#It also contains following member functions in it:\n",
    "#getVehicleDetails(): To accept vehicle details from user.\n",
    "#showVehicleDetails(): To display vehicle details.\n",
    "#Inherit two classes from Vehicle; class Truck with instance variable Weight limit and class Bus with instance variable \n",
    "#Passenger capacity. Add appropriate member functions in both derived classes. Create Python program to solve this \n",
    "#inheritance problem.\n",
    "class Vehicle:\n",
    "    def __init__(self, model='', reg_no='', fuel_cap=0.0, speed=0.0):\n",
    "        self.model = model\n",
    "        self.reg_no = reg_no\n",
    "        self.fuel_cap = fuel_cap\n",
    "        self.speed = speed\n",
    "    def get_details(self):\n",
    "        self.model = input(\"Enter vehicle model: \")\n",
    "        self.reg_no = input(\"Enter registration number: \")\n",
    "        self.fuel_cap = float(input(\"Enter fuel capacity: \"))\n",
    "        self.speed = float(input(\"Enter vehicle speed: \"))\n",
    "    def show_details(self):\n",
    "        print(\"Vehicle Model:\", self.model)\n",
    "        print(\"Registration Number:\", self.reg_no)\n",
    "        print(\"Fuel Capacity:\", self.fuel_cap)\n",
    "        print(\"Vehicle Speed:\", self.speed)\n",
    "\n",
    "\n",
    "class Truck(Vehicle):\n",
    "    def __init__(self, model='', reg_no='', fuel_cap=0.0, speed=0.0, weight_limit=0.0):\n",
    "        Vehicle.__init__(self, model, reg_no, fuel_cap, speed)\n",
    "        self.weight_limit = weight_limit\n",
    "    def get_details(self):\n",
    "        Vehicle.get_details(self)\n",
    "        self.weight_limit = float(input(\"Enter weight limit: \"))\n",
    "    def show_details(self):\n",
    "        Vehicle.show_details(self)\n",
    "        print(\"Weight Limit:\", self.weight_limit)\n",
    "\n",
    "\n",
    "class Bus(Vehicle):\n",
    "    def __init__(self, model='', reg_no='', fuel_cap=0.0, speed=0.0, passenger_cap=0):\n",
    "        Vehicle.__init__(self, model, reg_no, fuel_cap, speed)\n",
    "        self.passenger_cap = passenger_cap\n",
    "    def get_details(self):\n",
    "        Vehicle.get_details(self)\n",
    "        self.passenger_cap = int(input(\"Enter passenger capacity: \"))\n",
    "    def show_details(self):\n",
    "        Vehicle.show_details(self)\n",
    "        print(\"Passenger Capacity:\", self.passenger_cap)\n",
    "\n",
    "\n",
    "print(\"Truck Details:\")\n",
    "truck = Truck()\n",
    "truck.get_details()\n",
    "truck.show_details()\n",
    "print()\n",
    "\n",
    "print(\"Bus Details:\")\n",
    "bus = Bus()\n",
    "bus.get_details()\n",
    "bus.show_details()"
   ]
  },
  {
   "cell_type": "code",
   "execution_count": 1,
   "id": "7d9a5ebf-0c46-45d9-921a-f40dc2288b22",
   "metadata": {},
   "outputs": [
    {
     "name": "stdin",
     "output_type": "stream",
     "text": [
      "Enter employee number:  101\n",
      "Enter employee name:  Shyam\n",
      "Enter department:  IT\n",
      "Enter basic salary:  50000\n"
     ]
    },
    {
     "name": "stdout",
     "output_type": "stream",
     "text": [
      "Employee No: 101\n",
      "Name: Shyam\n",
      "Department: IT\n",
      "Basic Salary: 50000.0\n",
      "DA: 10000.0\n",
      "HRA: 5000.0\n",
      "PF: 2500.0\n",
      "IT: 5000.0\n",
      "Gross Salary: 65000.0\n",
      "Net Salary: 57500.0\n"
     ]
    }
   ],
   "source": [
    "#Q3 Create a class Employee with instance variable Employee No and Name. Also create a class Salary with instance \n",
    "#variables Department and Basic Salary. Derived a class EmployeeSalary from the above two classes. Create Python \n",
    "#program to calculate employee’s Gross Salary and Net Salary along with DA, HRA, PF, and IT. Accept all the \n",
    "#information from user and Display all the salary details back to user.\n",
    "class Employee:\n",
    "    def __init__(self, emp_no, name):\n",
    "        self.emp_no = emp_no\n",
    "        self.name = name\n",
    "\n",
    "class Salary:\n",
    "    def __init__(self, department, basic_salary):\n",
    "        self.department = department\n",
    "        self.basic_salary = basic_salary\n",
    "\n",
    "class EmployeeSalary(Employee, Salary):\n",
    "    def __init__(self, emp_no, name, department, basic_salary):\n",
    "        Employee.__init__(self, emp_no, name)\n",
    "        Salary.__init__(self, department, basic_salary)\n",
    "        self.da = 0.2 * basic_salary\n",
    "        self.hra = 0.1 * basic_salary\n",
    "        self.pf = 0.05 * basic_salary\n",
    "        self.it = 0.1 * basic_salary\n",
    "        self.gross_salary = basic_salary + self.da + self.hra\n",
    "        self.net_salary = self.gross_salary - self.pf - self.it\n",
    "    def display_details(self):\n",
    "        print(\"Employee No:\", self.emp_no)\n",
    "        print(\"Name:\", self.name)\n",
    "        print(\"Department:\", self.department)\n",
    "        print(\"Basic Salary:\", self.basic_salary)\n",
    "        print(\"DA:\", self.da)\n",
    "        print(\"HRA:\", self.hra)\n",
    "        print(\"PF:\", self.pf)\n",
    "        print(\"IT:\", self.it)\n",
    "        print(\"Gross Salary:\", self.gross_salary)\n",
    "        print(\"Net Salary:\", self.net_salary)\n",
    "\n",
    "\n",
    "emp_no = int(input(\"Enter employee number: \"))\n",
    "name = input(\"Enter employee name: \")\n",
    "department = input(\"Enter department: \")\n",
    "basic_salary = float(input(\"Enter basic salary: \"))\n",
    "\n",
    "employee_salary = EmployeeSalary(emp_no, name, department, basic_salary)\n",
    "employee_salary.display_details()"
   ]
  },
  {
   "cell_type": "code",
   "execution_count": null,
   "id": "ca3e9a5c-1725-427e-aa85-34a8ac1565d0",
   "metadata": {},
   "outputs": [],
   "source": []
  }
 ],
 "metadata": {
  "kernelspec": {
   "display_name": "Python 3 (ipykernel)",
   "language": "python",
   "name": "python3"
  },
  "language_info": {
   "codemirror_mode": {
    "name": "ipython",
    "version": 3
   },
   "file_extension": ".py",
   "mimetype": "text/x-python",
   "name": "python",
   "nbconvert_exporter": "python",
   "pygments_lexer": "ipython3",
   "version": "3.9.13"
  }
 },
 "nbformat": 4,
 "nbformat_minor": 5
}
