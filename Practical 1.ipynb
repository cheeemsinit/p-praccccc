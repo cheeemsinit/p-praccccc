{
 "cells": [
  {
   "cell_type": "code",
   "execution_count": 1,
   "id": "00acb7be",
   "metadata": {},
   "outputs": [
    {
     "name": "stdout",
     "output_type": "stream",
     "text": [
      "Enter the year : 2204\n",
      "Leap\n"
     ]
    }
   ],
   "source": [
    "#Q1 Create a python program to read a year from user, find whether that year is leap or not. (Conditions for being leap \n",
    "#year: – It should be divisible by four. \n",
    "#If it’s a century year, it should be divisible by 400 also.)\n",
    "year = int(input(\"Enter the year : \"))\n",
    "if year % 4 == 0 and year % 100 != 0 or year % 400 == 0:\n",
    "    print (\"Leap\")\n",
    "else: \n",
    "    print (\"Not Leap\")"
   ]
  },
  {
   "cell_type": "code",
   "execution_count": 2,
   "id": "7be91ec7",
   "metadata": {},
   "outputs": [
    {
     "name": "stdout",
     "output_type": "stream",
     "text": [
      "Enter the Number:543345\n",
      "It is palindrome!\n"
     ]
    }
   ],
   "source": [
    "#Q2 Create a python program to read a number from user, and check whether that number is pallindrome or not. Display \n",
    "#proper message back to user.\n",
    "n = input(\"Enter the Number:\")\n",
    "number_str = str(n)\n",
    "reversed_number = number_str[::-1]\n",
    "if number_str == reversed_number:\n",
    "    print(\"It is palindrome!\")\n",
    "else:\n",
    "    print(\"It is not a palindrome!\")"
   ]
  },
  {
   "cell_type": "code",
   "execution_count": 3,
   "id": "acf4b19b",
   "metadata": {},
   "outputs": [
    {
     "name": "stdout",
     "output_type": "stream",
     "text": [
      "Addition =  55\n"
     ]
    }
   ],
   "source": [
    "#Q3 Create a python program to demonstrate the use of while loop in python.\n",
    "#Addition of first 10 Natural numbers \n",
    "counter = 1\n",
    "add = 0\n",
    "while counter <= 10:\n",
    "    add = add + counter\n",
    "    counter = counter + 1\n",
    "else:\n",
    "    print('Addition = ',add)"
   ]
  },
  {
   "cell_type": "code",
   "execution_count": 4,
   "id": "f7bb20dc",
   "metadata": {},
   "outputs": [
    {
     "name": "stdout",
     "output_type": "stream",
     "text": [
      "Original text   Hello, This is Python Practical 1!  \n",
      "Uppercase:    HELLO, THIS IS PYTHON PRACTICAL 1!  \n",
      "Lowercase:    hello, this is python practical 1!  \n",
      "Split text:  ['  Hello', ' This is Python Practical 1!  ']\n",
      "Starts with 'Hello':  False\n",
      "Ends with 'World! ':  False\n",
      "Word found at location :  17\n",
      "Sentence after replacing the word :    Hello, This is PDS Practical 1!  \n"
     ]
    }
   ],
   "source": [
    "#Q4 Create a python program to demonstrate the use of string functions.\n",
    "text = \"  Hello, This is Python Practical 1!  \"\n",
    "print(\"Original text\",text )\n",
    "\n",
    "# 1. Uppercase\n",
    "uppercase = text.upper()\n",
    "print(\"Uppercase: \", uppercase)\n",
    "\n",
    "# 2. Lowercase\n",
    "lowercase = text.lower()\n",
    "print(\"Lowercase: \", lowercase)\n",
    "\n",
    "# 3. Split \n",
    "split_text = text.split(\",\")\n",
    "print(\"Split text: \", split_text)\n",
    "\n",
    "# 4. Startswith \n",
    "starts_with = text.startswith(\"Hello\")\n",
    "print(\"Starts with 'Hello': \", starts_with)\n",
    "\n",
    "# 5. Endswith\n",
    "ends_with = text.endswith(\"World!  \")\n",
    "print(\"Ends with 'World! ': \", ends_with)\n",
    "\n",
    "# 6. Find \n",
    "find = text.find(\"Python\")\n",
    "print(\"Word found at location : \",find)\n",
    "\n",
    "# 7. Replace\n",
    "replace = text.replace(\"Python\",\"PDS\")\n",
    "print(\"Sentence after replacing the word : \",replace)\n"
   ]
  },
  {
   "cell_type": "code",
   "execution_count": 5,
   "id": "961775a1",
   "metadata": {},
   "outputs": [
    {
     "name": "stdout",
     "output_type": "stream",
     "text": [
      "How many elements?3\n",
      "Enter elements of list:2\n",
      "Enter elements of list:3\n",
      "Enter elements of list:1\n",
      "List elements are [2, 3, 1]\n",
      "[1, 1, 1]\n",
      "Even [2]\n",
      "Odd [3, 1]\n"
     ]
    }
   ],
   "source": [
    "#Q5 Write a program to accept ‘n’ numbers from user store in list. Separate odd and even integers in separate lists.\n",
    "arr=[]  #Creating Empty list\n",
    "even=[]\n",
    "odd=[]\n",
    "n = int(input('How many elements?'))\n",
    "\n",
    "for x in range(n):\n",
    "    num=int(input('Enter elements of list:'))\n",
    "    arr.append(num)\n",
    "\n",
    "print('List elements are',arr )\n",
    "lst=[]\n",
    "for i in arr:\n",
    "    cnt=arr.count(i)\n",
    "    lst.append(cnt)\n",
    "print(lst)\n",
    "for i in arr:\n",
    "    if i%2==0:\n",
    "        even.append(i)\n",
    "    else:\n",
    "        odd.append(i)\n",
    "print(\"Even\",even)\n",
    "print(\"Odd\",odd)"
   ]
  }
 ],
 "metadata": {
  "kernelspec": {
   "display_name": "Python 3 (ipykernel)",
   "language": "python",
   "name": "python3"
  },
  "language_info": {
   "codemirror_mode": {
    "name": "ipython",
    "version": 3
   },
   "file_extension": ".py",
   "mimetype": "text/x-python",
   "name": "python",
   "nbconvert_exporter": "python",
   "pygments_lexer": "ipython3",
   "version": "3.9.13"
  }
 },
 "nbformat": 4,
 "nbformat_minor": 5
}
