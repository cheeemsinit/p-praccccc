{
 "cells": [
  {
   "cell_type": "code",
   "execution_count": 1,
   "id": "7dad0a32",
   "metadata": {},
   "outputs": [
    {
     "name": "stdout",
     "output_type": "stream",
     "text": [
      "Enter number 1: 10\n",
      "Enter number 2: 15\n",
      "GCD =  5\n",
      "LCM =  30\n"
     ]
    }
   ],
   "source": [
    "#Q1 Create a python program that calls 2 user defined function to find the GCD and LCM of given two numbers. Accept the \n",
    "#two numbers from user and pass it to functions.\n",
    "x=int(input(\"Enter number 1: \"))\n",
    "y=int(input(\"Enter number 2: \"))\n",
    "mul=x*y\n",
    "while (x!=y):\n",
    "    if(x>y):\n",
    "        x=x-y\n",
    "    else:\n",
    "        y=y-x\n",
    "        \n",
    "print(\"GCD = \",x)\n",
    "lcm=mul//x\n",
    "print(\"LCM = \",lcm)"
   ]
  },
  {
   "cell_type": "code",
   "execution_count": 13,
   "id": "0f970391",
   "metadata": {},
   "outputs": [
    {
     "name": "stdout",
     "output_type": "stream",
     "text": [
      "Enter a decimal number : 10\n",
      "1 0 1 0 "
     ]
    }
   ],
   "source": [
    "#Q2. Create a python program to read a decimal number from user and convert that number in binary and octal equivalent \n",
    "#number.\n",
    "n = int(input(\"Enter a decimal number : \"))\n",
    "\n",
    "binary = []\n",
    "while (n > 0):\n",
    "    r=n%2\n",
    "    binary.insert(0,r)\n",
    "    n = n//2\n",
    "for i in binary:\n",
    "    print(i, end = \" \") "
   ]
  },
  {
   "cell_type": "code",
   "execution_count": 2,
   "id": "4dda6853",
   "metadata": {},
   "outputs": [
    {
     "name": "stdout",
     "output_type": "stream",
     "text": [
      "Enter a decimal number : 10\n",
      "1 2 5 2 "
     ]
    }
   ],
   "source": [
    "#Octal\n",
    "n = int(input(\"Enter a decimal number : \"))\n",
    "octal = []\n",
    "while (n > 0):\n",
    "    p=n%8\n",
    "    octal.insert(0,p)\n",
    "    n = n//2\n",
    "for u in octal:\n",
    "    print(u, end = \" \") "
   ]
  },
  {
   "cell_type": "code",
   "execution_count": 2,
   "id": "76866e18",
   "metadata": {},
   "outputs": [
    {
     "name": "stdout",
     "output_type": "stream",
     "text": [
      "How many strings: 3\n",
      "Enter string: Ram\n",
      "Enter string: Laxman\n",
      "Enter string: Bharat\n",
      "Enter string: Shatrughan\n",
      "['Ram', 'Laxman', 'Bharat', 'Shatrughan']\n"
     ]
    }
   ],
   "source": [
    "#Q3. Create a Python program to read n strings from user, store them into list. Display only those strings which is having \n",
    "#even length\n",
    "lst=[]\n",
    "n=int(input(\"How many strings: \"))\n",
    "for i in range(n+1):\n",
    "    st=input(\"Enter string: \")\n",
    "    lst.append(st)\n",
    "print(lst)"
   ]
  },
  {
   "cell_type": "code",
   "execution_count": 6,
   "id": "7bd7f896",
   "metadata": {},
   "outputs": [
    {
     "name": "stdout",
     "output_type": "stream",
     "text": [
      "Enter Roll No: 1\n",
      "Enter your name: Ronit\n",
      "Enter the percentage: 89\n",
      "Enter class: fy\n",
      "Enter Roll No: 2\n",
      "Enter your name: Ram\n",
      "Enter the percentage: 90\n",
      "Enter class: fy\n",
      "Enter Roll No: 3\n",
      "Enter your name: Anuj\n",
      "Enter the percentage: 87\n",
      "Enter class: fy\n",
      "Enter Roll No: 4\n",
      "Enter your name: Lakhan\n",
      "Enter the percentage: 88\n",
      "Enter class: fy\n",
      "Enter Roll No: 5\n",
      "Enter your name: Bharat\n",
      "Enter the percentage: 91\n",
      "Enter class: fy\n",
      "(5, 'Bharat', 91, 'fy')\n"
     ]
    }
   ],
   "source": [
    "#Q4. Accept data for 5 students with tuple including roll number, name, and marks. Find the topper from them.\n",
    "max=0\n",
    "record=()\n",
    "for i in range(5):\n",
    "    rno=(int(input(\"Enter Roll No: \")))\n",
    "    name=(input(\"Enter your name: \"))\n",
    "    \n",
    "    per=(int(input(\"Enter the percentage: \")))\n",
    "    cl=(input(\"Enter class: \"))\n",
    "    #record=(rno,name,per,cl)\n",
    "    #print(record)\n",
    "\n",
    "if per>max:\n",
    "    rec = (rno, name, per, cl)\n",
    "    max = per\n",
    "print(rec)"
   ]
  },
  {
   "cell_type": "code",
   "execution_count": 14,
   "id": "3c716978",
   "metadata": {},
   "outputs": [
    {
     "name": "stdout",
     "output_type": "stream",
     "text": [
      "{1, 2, 3, 4, 5, 6, 7, 8}\n",
      "{1, 2, 3, 4, 5, 6, 7, 8}\n",
      "{1, 2, 3, 4, 5, 6, 7, 8}\n",
      "{4, 5}\n",
      "{1, 2, 3}\n",
      "{1, 2, 3}\n",
      "{8, 6, 7}\n"
     ]
    }
   ],
   "source": [
    "#Q5. Create a Python program to demonstrate the use of Set data structure with mathematical operations on 2 Set of numeric \n",
    "#elements.\n",
    "\n",
    "A = {1,2,3,4,5}\n",
    "B = {4,5,6,7,8}\n",
    "print (A|B)\n",
    "\n",
    "#Union \n",
    "print(A.union(B))\n",
    "print(B.union(A))\n",
    "\n",
    "#Intersection\n",
    "print(A.intersection(B))\n",
    "\n",
    "#Symmetric Difference\n",
    "\n",
    "print(A-B)\n",
    "print(A.difference(B))\n",
    "print(B.difference(A))"
   ]
  },
  {
   "cell_type": "code",
   "execution_count": 10,
   "id": "615e12c1",
   "metadata": {},
   "outputs": [
    {
     "name": "stdout",
     "output_type": "stream",
     "text": [
      "{1, 2, 3, 4, 5, 6, 7, 8}\n"
     ]
    }
   ],
   "source": [
    "\n",
    "A = {1,2,3,4,5}\n",
    "B = {4,5,6,7,8}\n",
    "print (A|B)"
   ]
  }
 ],
 "metadata": {
  "kernelspec": {
   "display_name": "Python 3 (ipykernel)",
   "language": "python",
   "name": "python3"
  },
  "language_info": {
   "codemirror_mode": {
    "name": "ipython",
    "version": 3
   },
   "file_extension": ".py",
   "mimetype": "text/x-python",
   "name": "python",
   "nbconvert_exporter": "python",
   "pygments_lexer": "ipython3",
   "version": "3.9.13"
  }
 },
 "nbformat": 4,
 "nbformat_minor": 5
}
