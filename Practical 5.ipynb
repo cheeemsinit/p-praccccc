{
 "cells": [
  {
   "cell_type": "markdown",
   "id": "ed0161a4",
   "metadata": {},
   "source": [
    "## Q1 Create a Python program to accept product details from user and insert into Product table of MySQL. Assume suitable table structure."
   ]
  },
  {
   "cell_type": "code",
   "execution_count": 1,
   "id": "4ef93608",
   "metadata": {},
   "outputs": [],
   "source": [
    "import mysql.connector"
   ]
  },
  {
   "cell_type": "code",
   "execution_count": 2,
   "id": "1510c9e3",
   "metadata": {},
   "outputs": [
    {
     "name": "stdout",
     "output_type": "stream",
     "text": [
      "<mysql.connector.connection_cext.CMySQLConnection object at 0x0000023185F81D00>\n"
     ]
    }
   ],
   "source": [
    "myconn=mysql.connector.connect(host=\"localhost\",user=\"root\",passwd=\"ronit108\",database=\"mydb\")\n",
    "print(myconn)"
   ]
  },
  {
   "cell_type": "code",
   "execution_count": 3,
   "id": "366e43fc",
   "metadata": {},
   "outputs": [],
   "source": [
    "cur = myconn.cursor()"
   ]
  },
  {
   "cell_type": "code",
   "execution_count": 4,
   "id": "14f8a024",
   "metadata": {},
   "outputs": [],
   "source": [
    "cur.execute(\"create table Product(pid int(10)not null primary key,pname varchar(20) not null, ptype varchar(20) not null, price int(20) not null, myear int(20) not null)\")"
   ]
  },
  {
   "cell_type": "code",
   "execution_count": 5,
   "id": "6ee1bf06",
   "metadata": {},
   "outputs": [
    {
     "name": "stdout",
     "output_type": "stream",
     "text": [
      "Enter product ID: 101\n",
      "Enter name: Redmi\n",
      "Enter Type: Mobile\n",
      "Enter Price: 20000\n",
      "Enter manufacturing year: 2024\n",
      "Enter product ID: 102\n",
      "Enter name: Laptop\n",
      "Enter Type: Lenovo\n",
      "Enter Price: 88000\n",
      "Enter manufacturing year: 2022\n",
      "Enter product ID: 103\n",
      "Enter name: Reynolds\n",
      "Enter Type: Pen\n",
      "Enter Price: 10\n",
      "Enter manufacturing year: 2024\n",
      "Enter product ID: 104\n",
      "Enter name: LG\n",
      "Enter Type: Computer\n",
      "Enter Price: 40000\n",
      "Enter manufacturing year: 2021\n",
      "Enter product ID: 105\n",
      "Enter name: Fireboltt\n",
      "Enter Type: Watch\n",
      "Enter Price: 2000\n",
      "Enter manufacturing year: 2021\n"
     ]
    }
   ],
   "source": [
    "for i in range(5):\n",
    "    pid = int(input('Enter product ID: '))\n",
    "    pname = input(\"Enter name: \")\n",
    "    ptype = input(\"Enter Type: \")\n",
    "    price  =int(input(\"Enter Price: \"))\n",
    "    myear = int(input(\"Enter manufacturing year: \"))\n",
    "    rec = (pid, pname, ptype, price, myear)\n",
    "    cur.execute(\"Insert into Product (pid, pname, ptype, price, myear) values (%s, %s, %s, %s, %s)\", rec)\n",
    "    myconn.commit()"
   ]
  },
  {
   "cell_type": "code",
   "execution_count": 6,
   "id": "919b7622",
   "metadata": {},
   "outputs": [
    {
     "name": "stdout",
     "output_type": "stream",
     "text": [
      "(101, 'Redmi', 'Mobile', 20000, 2024)\n",
      "(102, 'Laptop', 'Lenovo', 88000, 2022)\n",
      "(103, 'Reynolds', 'Pen', 10, 2024)\n",
      "(104, 'LG', 'Computer', 40000, 2021)\n",
      "(105, 'Fireboltt', 'Watch', 2000, 2021)\n"
     ]
    }
   ],
   "source": [
    "cur=myconn.cursor()\n",
    "\n",
    "cur.execute(\"select * from Product\")\n",
    "\n",
    "#fetching the rows from the cursor object\n",
    "result = cur.fetchall()\n",
    "\n",
    "#printing the result\n",
    "for x in result:\n",
    "    print(x)"
   ]
  },
  {
   "cell_type": "markdown",
   "id": "ad78c40c",
   "metadata": {},
   "source": [
    "## Q2 create a Python program to retrieve student details those are placed in tcs company. Assume suitable table structure."
   ]
  },
  {
   "cell_type": "code",
   "execution_count": 7,
   "id": "4c74ff5c",
   "metadata": {},
   "outputs": [],
   "source": [
    "import mysql.connector"
   ]
  },
  {
   "cell_type": "code",
   "execution_count": 8,
   "id": "fd0ea5b5",
   "metadata": {},
   "outputs": [
    {
     "name": "stdout",
     "output_type": "stream",
     "text": [
      "<mysql.connector.connection_cext.CMySQLConnection object at 0x0000023185FA4280>\n"
     ]
    }
   ],
   "source": [
    "myconn=mysql.connector.connect(host=\"localhost\",user=\"root\",passwd=\"ronit108\",database=\"mydb\")\n",
    "print(myconn)"
   ]
  },
  {
   "cell_type": "code",
   "execution_count": 12,
   "id": "83bd7eac",
   "metadata": {},
   "outputs": [],
   "source": [
    "cur = myconn.cursor()"
   ]
  },
  {
   "cell_type": "code",
   "execution_count": 13,
   "id": "ee314260",
   "metadata": {},
   "outputs": [],
   "source": [
    "cur.execute(\"create table Student(PRN int(10)not null primary key,Name varchar(20) not null, Company_name varchar(20) not null, Package int(20) not null)\")"
   ]
  },
  {
   "cell_type": "code",
   "execution_count": 14,
   "id": "f645b2b6",
   "metadata": {},
   "outputs": [
    {
     "name": "stdout",
     "output_type": "stream",
     "text": [
      "Enter your Roll No: 1\n",
      "Enter your name: Ronit\n",
      "Enter your company name: Tata\n",
      "Enter your package: 1500000\n",
      "Enter your Roll No: 2\n",
      "Enter your name: Anika\n",
      "Enter your company name: TCS\n",
      "Enter your package: 1800000\n",
      "Enter your Roll No: 3\n",
      "Enter your name: Saqeeb\n",
      "Enter your company name: Mahindra\n",
      "Enter your package: 1550000\n"
     ]
    }
   ],
   "source": [
    "for i in range():\n",
    "    PRN = int(input('Enter your Roll No: '))\n",
    "    Name = input(\"Enter your name: \")\n",
    "    Company_name = input(\"Enter your company name: \")\n",
    "    Package  = int(input(\"Enter your package: \"))\n",
    "    rec = (PRN, Name, Company_name, Package)\n",
    "    cur.execute(\"Insert into Student(PRN, Name, Company_name, Package) values (%s, %s, %s, %s)\", rec)\n",
    "    myconn.commit()"
   ]
  },
  {
   "cell_type": "code",
   "execution_count": 15,
   "id": "104dc06f",
   "metadata": {},
   "outputs": [
    {
     "name": "stdout",
     "output_type": "stream",
     "text": [
      "(2, 'Anika', 'TCS', 1800000)\n"
     ]
    }
   ],
   "source": [
    "cur=myconn.cursor()\n",
    "\n",
    "cur.execute(\"select * from Student where Company_name='TCS' \")\n",
    "\n",
    "#fetching the rows from the cursor object\n",
    "result = cur.fetchall()\n",
    "\n",
    "#printing the result\n",
    "for x in result:\n",
    "    print(x)"
   ]
  },
  {
   "cell_type": "markdown",
   "id": "e0fb3429",
   "metadata": {},
   "source": [
    "## Q3 Create python program to display area wise product sales details for electronic products in a year. Assume suitable table structure"
   ]
  },
  {
   "cell_type": "code",
   "execution_count": 1,
   "id": "6191255d",
   "metadata": {},
   "outputs": [],
   "source": [
    "import mysql.connector"
   ]
  },
  {
   "cell_type": "code",
   "execution_count": 2,
   "id": "1c403b53",
   "metadata": {},
   "outputs": [
    {
     "name": "stdout",
     "output_type": "stream",
     "text": [
      "<mysql.connector.connection_cext.CMySQLConnection object at 0x0000027A83010D60>\n"
     ]
    }
   ],
   "source": [
    "myconn=mysql.connector.connect(host=\"localhost\",user=\"root\",passwd=\"ronit108\",database=\"mydb\")\n",
    "print(myconn)"
   ]
  },
  {
   "cell_type": "code",
   "execution_count": 3,
   "id": "50b422da",
   "metadata": {},
   "outputs": [],
   "source": [
    "cur = myconn.cursor()"
   ]
  },
  {
   "cell_type": "code",
   "execution_count": 4,
   "id": "72650e31",
   "metadata": {},
   "outputs": [],
   "source": [
    "cur.execute(\"create table Prod(pid int(10) not null primary key,pname varchar(20) not null,area varchar(10),sales int(10) not null,year int(10) not null)\")"
   ]
  },
  {
   "cell_type": "code",
   "execution_count": 5,
   "id": "9173d182",
   "metadata": {},
   "outputs": [
    {
     "name": "stdout",
     "output_type": "stream",
     "text": [
      "Enter Product ID:1\n",
      "Enter Name:Pen\n",
      "Enter Area:Pune\n",
      "Enter Sales:20000\n",
      "Enter Year:2024\n",
      "Enter Product ID:2\n",
      "Enter Name:Eraser\n",
      "Enter Area:PCMC\n",
      "Enter Sales:320001\n",
      "Enter Year:2024\n",
      "Enter Product ID:3\n",
      "Enter Name:Notebooks\n",
      "Enter Area:Pune\n",
      "Enter Sales:40000\n",
      "Enter Year:2024\n"
     ]
    }
   ],
   "source": [
    "for i in range(3):\n",
    "    pid= int(input(\"Enter Product ID:\"))\n",
    "    pname= input(\"Enter Name:\")\n",
    "    area=input(\"Enter Area:\")\n",
    "    sales=int(input(\"Enter Sales:\"))\n",
    "    year= int(input(\"Enter Year:\"))\n",
    "    rec= (pid,pname,area,sales,year)\n",
    "    cur.execute(\"insert into Prod(pid,pname,area,sales,year)values(%s,%s,%s,%s,%s)\",rec)\n",
    "    myconn.commit()"
   ]
  },
  {
   "cell_type": "code",
   "execution_count": 6,
   "id": "f2562ca2",
   "metadata": {},
   "outputs": [
    {
     "name": "stdout",
     "output_type": "stream",
     "text": [
      "(1, 'Pen', 'Pune', 20000, 2024)\n",
      "(2, 'Eraser', 'PCMC', 320001, 2024)\n",
      "(3, 'Notebooks', 'Pune', 40000, 2024)\n"
     ]
    }
   ],
   "source": [
    "dbs=cur.execute(\"select * from Prod\")\n",
    "result=cur.fetchall()\n",
    "\n",
    "for i in result:\n",
    "    print(i) "
   ]
  },
  {
   "cell_type": "code",
   "execution_count": 7,
   "id": "38e064d5",
   "metadata": {},
   "outputs": [
    {
     "name": "stdout",
     "output_type": "stream",
     "text": [
      "Area : Pune \n",
      " Product : Pen\n",
      " Toatl_Sales : 20000\n",
      "Area : PCMC \n",
      " Product : Eraser\n",
      " Toatl_Sales : 320001\n",
      "Area : Pune \n",
      " Product : Notebooks\n",
      " Toatl_Sales : 40000\n"
     ]
    }
   ],
   "source": [
    "cur.execute(\"select area,pname,SUM(sales) as total_sales from Prod GROUP BY area,pname \")\n",
    "result=cur.fetchall()\n",
    "\n",
    "for row in result:\n",
    "    print(f\"Area : {row[0]} \\n Product : {row[1]}\\n Toatl_Sales : {row[2]}\")"
   ]
  },
  {
   "cell_type": "markdown",
   "id": "5e70bb03",
   "metadata": {},
   "source": [
    "## Q4 Create a Python program to increase the salary of employee by 10% those who have working experience more than 20 years. Assume suitable table structure."
   ]
  },
  {
   "cell_type": "code",
   "execution_count": null,
   "id": "a8f191e7",
   "metadata": {},
   "outputs": [],
   "source": []
  }
 ],
 "metadata": {
  "kernelspec": {
   "display_name": "Python 3 (ipykernel)",
   "language": "python",
   "name": "python3"
  },
  "language_info": {
   "codemirror_mode": {
    "name": "ipython",
    "version": 3
   },
   "file_extension": ".py",
   "mimetype": "text/x-python",
   "name": "python",
   "nbconvert_exporter": "python",
   "pygments_lexer": "ipython3",
   "version": "3.9.13"
  }
 },
 "nbformat": 4,
 "nbformat_minor": 5
}
